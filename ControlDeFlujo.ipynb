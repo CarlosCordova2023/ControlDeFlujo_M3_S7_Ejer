{
  "nbformat": 4,
  "nbformat_minor": 0,
  "metadata": {
    "colab": {
      "provenance": [],
      "authorship_tag": "ABX9TyOvfeGnUYhlvU9Kvw8+Rpvi",
      "include_colab_link": true
    },
    "kernelspec": {
      "name": "python3",
      "display_name": "Python 3"
    },
    "language_info": {
      "name": "python"
    }
  },
  "cells": [
    {
      "cell_type": "markdown",
      "metadata": {
        "id": "view-in-github",
        "colab_type": "text"
      },
      "source": [
        "<a href=\"https://colab.research.google.com/github/CarlosCordova2023/ControlDeFlujo_M3_S7_Ejer/blob/main/ControlDeFlujo.ipynb\" target=\"_parent\"><img src=\"https://colab.research.google.com/assets/colab-badge.svg\" alt=\"Open In Colab\"/></a>"
      ]
    },
    {
      "cell_type": "code",
      "execution_count": 1,
      "metadata": {
        "colab": {
          "base_uri": "https://localhost:8080/"
        },
        "id": "b3U9wyjMcLj0",
        "outputId": "8a326ee6-1ce3-4942-81eb-ddbc5c602b40"
      },
      "outputs": [
        {
          "output_type": "stream",
          "name": "stdout",
          "text": [
            "0 es cero.\n",
            "1 es impar.\n",
            "2 es par.\n",
            "3 es impar.\n",
            "4 es par.\n",
            "5 es impar.\n",
            "6 es par.\n",
            "7 es impar.\n",
            "8 es par.\n",
            "9 es impar.\n"
          ]
        }
      ],
      "source": [
        "# Crear una lista con 10 números enteros\n",
        "numeros = [0, 1, 2, 3, 4, 5, 6, 7, 8, 9]\n",
        "\n",
        "for numero in numeros:\n",
        "    if numero == 0:\n",
        "        print(f\"{numero} es cero.\")\n",
        "    elif numero % 2 == 0:\n",
        "        print(f\"{numero} es par.\")\n",
        "    else:\n",
        "        print(f\"{numero} es impar.\")\n"
      ]
    }
  ]
}